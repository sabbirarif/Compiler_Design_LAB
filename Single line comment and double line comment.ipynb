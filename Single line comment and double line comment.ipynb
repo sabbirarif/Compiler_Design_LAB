{
 "cells": [
  {
   "cell_type": "code",
   "execution_count": 7,
   "metadata": {},
   "outputs": [
    {
     "name": "stdout",
     "output_type": "stream",
     "text": [
      "Enter a string: hsusuu */\n"
     ]
    }
   ],
   "source": [
    "line = input(\"Enter a string: \")\n"
   ]
  },
  {
   "cell_type": "code",
   "execution_count": 8,
   "metadata": {},
   "outputs": [],
   "source": [
    "def isComment(line):\n",
    "   \n",
    "  \n",
    "    if (line[0] == '/'  and line[1] == '/' and line[2] != '/'):\n",
    "        print(\"It is a single-line comment\")\n",
    "        return\n",
    " \n",
    "    if (line[len(line) - 2] == '*' and line[len(line) - 1] == '/' and line[0] == '/'  and line[1] == '*'):\n",
    "        print(\"It is a multi-line comment\")\n",
    "        return\n",
    " \n",
    "    print(\"It is not a comment\")"
   ]
  },
  {
   "cell_type": "code",
   "execution_count": 9,
   "metadata": {},
   "outputs": [
    {
     "name": "stdout",
     "output_type": "stream",
     "text": [
      "It is not a comment\n"
     ]
    }
   ],
   "source": [
    "isComment(line)"
   ]
  },
  {
   "cell_type": "code",
   "execution_count": null,
   "metadata": {},
   "outputs": [],
   "source": []
  },
  {
   "cell_type": "code",
   "execution_count": null,
   "metadata": {},
   "outputs": [],
   "source": []
  },
  {
   "cell_type": "code",
   "execution_count": null,
   "metadata": {},
   "outputs": [],
   "source": []
  }
 ],
 "metadata": {
  "kernelspec": {
   "display_name": "Python 3",
   "language": "python",
   "name": "python3"
  },
  "language_info": {
   "codemirror_mode": {
    "name": "ipython",
    "version": 3
   },
   "file_extension": ".py",
   "mimetype": "text/x-python",
   "name": "python",
   "nbconvert_exporter": "python",
   "pygments_lexer": "ipython3",
   "version": "3.8.8"
  }
 },
 "nbformat": 4,
 "nbformat_minor": 2
}
