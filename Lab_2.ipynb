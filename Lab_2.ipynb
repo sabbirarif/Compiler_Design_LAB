{
 "cells": [
  {
   "cell_type": "code",
   "execution_count": 20,
   "metadata": {},
   "outputs": [],
   "source": [
    "import re\n",
    "import nltk"
   ]
  },
  {
   "cell_type": "code",
   "execution_count": 26,
   "metadata": {},
   "outputs": [
    {
     "name": "stdout",
     "output_type": "stream",
     "text": [
      "Enter Your code: if(a++b){while,for,loop) } --\n"
     ]
    }
   ],
   "source": [
    "input_program = input(\"Enter Your code: \")"
   ]
  },
  {
   "cell_type": "code",
   "execution_count": 27,
   "metadata": {},
   "outputs": [],
   "source": [
    "input_program_token  = nltk.wordpunct_tokenize(input_program)"
   ]
  },
  {
   "cell_type": "code",
   "execution_count": 28,
   "metadata": {},
   "outputs": [
    {
     "data": {
      "text/plain": [
       "['if',\n",
       " '(',\n",
       " 'a',\n",
       " '++',\n",
       " 'b',\n",
       " '){',\n",
       " 'while',\n",
       " ',',\n",
       " 'for',\n",
       " ',',\n",
       " 'loop',\n",
       " ')',\n",
       " '}',\n",
       " '--']"
      ]
     },
     "execution_count": 28,
     "metadata": {},
     "output_type": "execute_result"
    }
   ],
   "source": [
    "input_program_token "
   ]
  },
  {
   "cell_type": "code",
   "execution_count": 29,
   "metadata": {},
   "outputs": [],
   "source": [
    "Re_keywords = \"auto|break|case|char|continue|default|if|else|do|for|loop|int|double|short|sizeof|float|return\"\n",
    "Re_Operators = \"(\\++)|(-)|(=)|(\\*)|(%)|(--)|(<=)|(>=)\""
   ]
  },
  {
   "cell_type": "code",
   "execution_count": 30,
   "metadata": {},
   "outputs": [
    {
     "name": "stdout",
     "output_type": "stream",
     "text": [
      "if ------>keywords\n",
      "++ ------>Operators\n",
      "for ------>keywords\n",
      "loop ------>keywords\n",
      "-- ------>Operators\n"
     ]
    }
   ],
   "source": [
    "for token in input_program_token:\n",
    "    if(re.findall(Re_keywords,token)):\n",
    "        print(token,\"------>keywords\")\n",
    "        \n",
    "    elif(re.findall(Re_Operators,token)):\n",
    "         print(token,\"------>Operators\")\n",
    "        "
   ]
  },
  {
   "cell_type": "code",
   "execution_count": null,
   "metadata": {},
   "outputs": [],
   "source": []
  },
  {
   "cell_type": "code",
   "execution_count": null,
   "metadata": {},
   "outputs": [],
   "source": []
  },
  {
   "cell_type": "code",
   "execution_count": null,
   "metadata": {},
   "outputs": [],
   "source": []
  },
  {
   "cell_type": "code",
   "execution_count": null,
   "metadata": {},
   "outputs": [],
   "source": []
  },
  {
   "cell_type": "code",
   "execution_count": null,
   "metadata": {},
   "outputs": [],
   "source": []
  }
 ],
 "metadata": {
  "kernelspec": {
   "display_name": "Python 3",
   "language": "python",
   "name": "python3"
  },
  "language_info": {
   "codemirror_mode": {
    "name": "ipython",
    "version": 3
   },
   "file_extension": ".py",
   "mimetype": "text/x-python",
   "name": "python",
   "nbconvert_exporter": "python",
   "pygments_lexer": "ipython3",
   "version": "3.8.8"
  }
 },
 "nbformat": 4,
 "nbformat_minor": 2
}
